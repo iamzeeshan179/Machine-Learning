{
 "cells": [
  {
   "cell_type": "markdown",
   "metadata": {},
   "source": [
    "# American Census"
   ]
  },
  {
   "cell_type": "code",
   "execution_count": 1,
   "metadata": {},
   "outputs": [],
   "source": [
    "import numpy as np\n",
    "import pandas as pd\n",
    "\n",
    "from sklearn.naive_bayes import GaussianNB\n",
    "from sklearn.dummy import DummyClassifier\n",
    "from sklearn.tree import DecisionTreeClassifier\n",
    "from sklearn.svm import SVC\n",
    "from sklearn.neighbors import KNeighborsClassifier\n",
    "from sklearn.linear_model import LogisticRegression\n",
    "\n",
    "import matplotlib.pyplot as plt"
   ]
  },
  {
   "cell_type": "markdown",
   "metadata": {},
   "source": [
    "## Global config"
   ]
  },
  {
   "cell_type": "code",
   "execution_count": 2,
   "metadata": {},
   "outputs": [],
   "source": [
    "# Data config\n",
    "path_to_csv = \"adult.csv\""
   ]
  },
  {
   "cell_type": "markdown",
   "metadata": {},
   "source": [
    "## Load data"
   ]
  },
  {
   "cell_type": "code",
   "execution_count": 3,
   "metadata": {},
   "outputs": [
    {
     "data": {
      "text/plain": [
       " United-States                 14598\n",
       " Mexico                          311\n",
       " Philippines                      85\n",
       " Canada                           67\n",
       " Germany                          66\n",
       " Puerto-Rico                      63\n",
       " El-Salvador                      58\n",
       " India                            57\n",
       " Cuba                             44\n",
       " England                          43\n",
       " Jamaica                          43\n",
       " South                            41\n",
       " China                            38\n",
       " Poland                           35\n",
       " Japan                            32\n",
       " Vietnam                          31\n",
       " Italy                            30\n",
       " Columbia                         29\n",
       " Guatemala                        28\n",
       " Iran                             27\n",
       " Dominican-Republic               26\n",
       " Portugal                         21\n",
       " Taiwan                           21\n",
       " Nicaragua                        21\n",
       " Haiti                            16\n",
       " Peru                             15\n",
       " Greece                           15\n",
       " Ecuador                          15\n",
       " Laos                             13\n",
       " France                           12\n",
       " Cambodia                         11\n",
       " Trinadad&Tobago                  11\n",
       " Hungary                          11\n",
       " Ireland                          10\n",
       " Hong                              9\n",
       " Yugoslavia                        9\n",
       " Thailand                          7\n",
       " Honduras                          5\n",
       " Outlying-US(Guam-USVI-etc)        3\n",
       " Scotland                          3\n",
       "Name: native-country, dtype: int64"
      ]
     },
     "execution_count": 3,
     "metadata": {},
     "output_type": "execute_result"
    }
   ],
   "source": [
    "X_train = pd.read_csv(\"X_train.csv\")\n",
    "y_train = pd.read_csv(\"y_train.csv\")\n",
    "\n",
    "X_test = pd.read_csv(\"X_test.csv\")\n",
    "X_train['native-country'].value_counts()"
   ]
  },
  {
   "cell_type": "markdown",
   "metadata": {},
   "source": [
    "## Helpers"
   ]
  },
  {
   "cell_type": "code",
   "execution_count": 4,
   "metadata": {
    "scrolled": true
   },
   "outputs": [],
   "source": [
    "y_train['salary'].value_counts()\n",
    "X_test.head()\n",
    "import seaborn as sns"
   ]
  },
  {
   "cell_type": "markdown",
   "metadata": {},
   "source": [
    "## Data exploration"
   ]
  },
  {
   "cell_type": "markdown",
   "metadata": {},
   "source": [
    "### Question 1"
   ]
  },
  {
   "cell_type": "code",
   "execution_count": 5,
   "metadata": {},
   "outputs": [
    {
     "data": {
      "text/plain": [
       "0    12360\n",
       "1     3920\n",
       "Name: salary, dtype: int64"
      ]
     },
     "execution_count": 5,
     "metadata": {},
     "output_type": "execute_result"
    }
   ],
   "source": [
    "y_train['salary'].value_counts()\n",
    "\n",
    "# TODO"
   ]
  },
  {
   "cell_type": "markdown",
   "metadata": {},
   "source": [
    "### Question 2"
   ]
  },
  {
   "cell_type": "code",
   "execution_count": 6,
   "metadata": {},
   "outputs": [
    {
     "data": {
      "image/png": "[encoded data removed]",
      "text/plain": [
       "<Figure size 432x288 with 1 Axes>"
      ]
     },
     "metadata": {
      "needs_background": "light"
     },
     "output_type": "display_data"
    },
    {
     "data": {
      "image/png": "[encoded data removed]",
      "text/plain": [
       "<Figure size 720x576 with 1 Axes>"
      ]
     },
     "metadata": {
      "needs_background": "light"
     },
     "output_type": "display_data"
    }
   ],
   "source": [
    "#import seaborn as sns\n",
    "#plt.figure(figsize = (10,8))\n",
    "sns.countplot(y_train['salary'], hue=X_train['sex'])\n",
    "plt.savefig(\"bias1\")\n",
    "plt.show()\n",
    "plt.figure(figsize = (10,8))\n",
    "sns.countplot(y_train['salary'], hue=X_train['race'])\n",
    "plt.savefig(\"bias figure\")\n",
    "# TODO"
   ]
  },
  {
   "cell_type": "markdown",
   "metadata": {},
   "source": [
    "## Data exploration"
   ]
  },
  {
   "cell_type": "markdown",
   "metadata": {},
   "source": [
    "### Question 1"
   ]
  },
  {
   "cell_type": "code",
   "execution_count": 7,
   "metadata": {
    "scrolled": true
   },
   "outputs": [
    {
     "name": "stdout",
     "output_type": "stream",
     "text": [
      "age                  0\n",
      "education-num      240\n",
      "hours-per-week       0\n",
      "workclass          936\n",
      "education            0\n",
      "marital-status       0\n",
      "occupation        1181\n",
      "relationship         0\n",
      "race                 0\n",
      "sex                  0\n",
      "native-country     300\n",
      "dtype: int64\n",
      "--------after cleaning-----------\n"
     ]
    },
    {
     "data": {
      "text/plain": [
       "age               0\n",
       "education-num     0\n",
       "hours-per-week    0\n",
       "workclass         0\n",
       "education         0\n",
       "marital-status    0\n",
       "occupation        0\n",
       "relationship      0\n",
       "race              0\n",
       "sex               0\n",
       "native-country    0\n",
       "dtype: int64"
      ]
     },
     "execution_count": 7,
     "metadata": {},
     "output_type": "execute_result"
    }
   ],
   "source": [
    "from sklearn.impute import SimpleImputer\n",
    "cols = X_train.columns\n",
    "\n",
    "print(X_train.isnull().sum())\n",
    "print(\"--------after cleaning-----------\")\n",
    "\n",
    "imp = SimpleImputer(missing_values=np.nan,strategy='most_frequent')\n",
    "X_train = pd.DataFrame(imp.fit_transform(X_train), columns=cols)\n",
    "\n",
    "\n",
    "# TODO\n",
    "X_train.isnull().sum()\n"
   ]
  },
  {
   "cell_type": "markdown",
   "metadata": {},
   "source": [
    "# Question 2"
   ]
  },
  {
   "cell_type": "code",
   "execution_count": 8,
   "metadata": {},
   "outputs": [],
   "source": [
    "# TODO\n",
    "from sklearn.preprocessing import LabelEncoder\n",
    "\n",
    "lb_make = LabelEncoder()\n",
    "b = ['Outside US' if str(row) != ' United-States' else 'United-States' for row in X_train['native-country']]\n",
    "X_train[\"native-country\"] = b\n",
    "\n",
    "b = ['Outside US' if str(row) != ' United-States' else 'United-States' for row in X_test['native-country']]\n",
    "X_test[\"native-country\"] = b\n",
    "\n",
    "cols=[\"workclass\", \"education\", \"marital-status\", \"occupation\", \"relationship\", \"race\", \"sex\", \"native-country\"]\n",
    "#X_train[cols] = lb_make.fit_transform(X_train[cols])\n",
    "\n",
    "for i in range(3,11):\n",
    "    lb_make = LabelEncoder()\n",
    "    X_train.iloc[:,i] =  lb_make.fit_transform(X_train.iloc[:,i])\n",
    "    X_test.iloc[:,i] =  lb_make.transform(X_test.iloc[:,i])\n",
    "    "
   ]
  },
  {
   "cell_type": "markdown",
   "metadata": {},
   "source": [
    "### Question 3"
   ]
  },
  {
   "cell_type": "code",
   "execution_count": null,
   "metadata": {},
   "outputs": [],
   "source": []
  },
  {
   "cell_type": "markdown",
   "metadata": {},
   "source": [
    "## Experiments"
   ]
  },
  {
   "cell_type": "markdown",
   "metadata": {},
   "source": [
    "### Question 1"
   ]
  },
  {
   "cell_type": "code",
   "execution_count": 9,
   "metadata": {},
   "outputs": [],
   "source": [
    "from sklearn.model_selection import train_test_split\n",
    "\n",
    "X_training, X_val, y_training, y_val = train_test_split(X_train, y_train, test_size=0.1, random_state=42, shuffle=True, stratify=y_train)\n"
   ]
  },
  {
   "cell_type": "markdown",
   "metadata": {},
   "source": [
    "### Question 2"
   ]
  },
  {
   "cell_type": "code",
   "execution_count": 10,
   "metadata": {},
   "outputs": [],
   "source": [
    "import warnings\n",
    "warnings.filterwarnings('ignore')"
   ]
  },
  {
   "cell_type": "code",
   "execution_count": 11,
   "metadata": {},
   "outputs": [
    {
     "name": "stderr",
     "output_type": "stream",
     "text": [
      "No handles with labels found to put in legend.\n"
     ]
    },
    {
     "name": "stdout",
     "output_type": "stream",
     "text": [
      "\n",
      "\n"
     ]
    },
    {
     "data": {
      "image/png": "[encoded data removed]",
      "text/plain": [
       "<Figure size 720x504 with 1 Axes>"
      ]
     },
     "metadata": {
      "needs_background": "light"
     },
     "output_type": "display_data"
    }
   ],
   "source": [
    "from sklearn.naive_bayes import GaussianNB\n",
    "from sklearn.svm import SVC\n",
    "from sklearn.neighbors import KNeighborsClassifier\n",
    "from sklearn.linear_model import LogisticRegression\n",
    "from sklearn.tree import DecisionTreeClassifier\n",
    "from sklearn.dummy import DummyClassifier\n",
    "from sklearn.metrics import f1_score\n",
    "\n",
    "random_state = 42\n",
    "\n",
    "models = {\n",
    "    \"GaussianNB\": GaussianNB(),\n",
    "    \"DecisionTreeClassifier\": DecisionTreeClassifier(max_depth=None, min_samples_leaf=2, random_state=random_state),\n",
    "    \"KNeighborsClassifier\": KNeighborsClassifier(n_neighbors=3, weights=\"distance\"),\n",
    "    \"SVM\": SVC(kernel=\"poly\",C=10,random_state=42),\n",
    "    \"LogisticRegression\": LogisticRegression(C=10,random_state=42)\n",
    "}\n",
    "plt.figure(figsize = (10,7))\n",
    "f1_scores= []\n",
    "for name, model in models.items():\n",
    "     model.fit(X_training,y_training)\n",
    "     prediction = model.predict(X_val)\n",
    "     f1_scores.append(f1_score(y_val, prediction))\n",
    "\n",
    "print('\\n')\n",
    "plt.bar(models.keys(),f1_scores)\n",
    "sns.despine(top=True, right=True, left=False, bottom=False)\n",
    "plt.legend()\n",
    "plt.ylim([0.45, 0.70])\n",
    "plt.title('F1Scores for differenet models\\n')\n",
    "# plt.xlabel('False Positive Rate')\n",
    "# plt.xlabel('True negaitive Rate')\n",
    "plt.savefig(\"F1 score.jpg\")"
   ]
  },
  {
   "cell_type": "markdown",
   "metadata": {},
   "source": [
    "### Question 3"
   ]
  },
  {
   "cell_type": "code",
   "execution_count": 12,
   "metadata": {},
   "outputs": [],
   "source": [
    "from sklearn.metrics import make_scorer\n",
    "scoring_method_f1 = make_scorer(lambda prediction, true_target: f1_score(prediction, true_target, average=\"weighted\"))"
   ]
  },
  {
   "cell_type": "code",
   "execution_count": 13,
   "metadata": {},
   "outputs": [
    {
     "name": "stdout",
     "output_type": "stream",
     "text": [
      "GaussianNB\n",
      "- best_score = 0.7825628814268187\n",
      "best paramters:\n",
      "DecisionTreeClassifier\n",
      "- best_score = 0.8196757738572906\n",
      "best paramters:\n",
      "- max_depth 8\n",
      "- min_samples_leaf 4\n",
      "- random_state 42\n",
      "KNeighborsClassifier\n",
      "- best_score = 0.8021733775752289\n",
      "best paramters:\n",
      "- n_neighbors 9\n",
      "- p 1\n",
      "- weights uniform\n",
      "SVM\n",
      "- best_score = 0.78702271881832\n",
      "best paramters:\n",
      "- C 10\n",
      "- kernel poly\n",
      "- random_state 42\n",
      "LogisticRegression\n",
      "- best_score = 0.7795390594072705\n",
      "best paramters:\n",
      "- C 10\n",
      "- penalty l2\n",
      "- random_state 42\n"
     ]
    }
   ],
   "source": [
    "from sklearn.model_selection import GridSearchCV\n",
    "grid_scores=[]\n",
    "model_parameters = {\n",
    "    \"GaussianNB\": {\n",
    "    },\n",
    "    \"DecisionTreeClassifier\": {\n",
    "        'max_depth': [None, 2,3,4,5,6,7,8,9,10],\n",
    "        'random_state' : [42],\n",
    "        'min_samples_leaf': [2,3,4]\n",
    "    },\n",
    "    # START ANSWER\n",
    "    \n",
    "    \"KNeighborsClassifier\": {\n",
    "         'n_neighbors': [1,3,5,7,9,11,1],\n",
    "         'weights': ['uniform' , 'distance'],\n",
    "         'p': [1,2]   \n",
    "    },\n",
    "    \"SVM\": {\n",
    "        'C': [0.1,10],\n",
    "        'random_state' : [42],\n",
    "        'kernel' : ['poly', 'sigmoid']\n",
    "    },\n",
    "    \"LogisticRegression\": {\n",
    "        'C': [0.001,1.0,4,5,10],\n",
    "        'penalty': ['l1', 'l2', 'elasticnet', 'none'],\n",
    "        'random_state' : [42]\n",
    "    }}\n",
    "    \n",
    "    \n",
    "for model_name, parameters in model_parameters.items():\n",
    "        model = models[model_name]\n",
    "    \n",
    "        grid_search = GridSearchCV(model, parameters,n_jobs=-1, verbose=False,scoring=scoring_method_f1).fit(X_training, y_training)\n",
    "    \n",
    "        best_model = grid_search.best_estimator_\n",
    "        best_score = grid_search.best_score_\n",
    "        best_params = grid_search.best_params_\n",
    "        \n",
    "        predicts=best_model.predict(X_val)\n",
    "        grid_scores.append(f1_score(y_val,predicts))\n",
    "        print(model_name)\n",
    "        print(\"- best_score =\", best_score)\n",
    "        print(\"best paramters:\")\n",
    "        for k,v in best_params.items():\n",
    "            print(\"-\", k, v)\n",
    "    # END ANSWER\n"
   ]
  },
  {
   "cell_type": "markdown",
   "metadata": {},
   "source": [
    "### Question 4"
   ]
  },
  {
   "cell_type": "code",
   "execution_count": 16,
   "metadata": {},
   "outputs": [
    {
     "name": "stderr",
     "output_type": "stream",
     "text": [
      "No handles with labels found to put in legend.\n"
     ]
    },
    {
     "data": {
      "text/plain": [
       "[0.6021739130434783,\n",
       " 0.6366120218579234,\n",
       " 0.5800524934383202,\n",
       " 0.4966887417218543,\n",
       " 0.48231511254019294]"
      ]
     },
     "execution_count": 16,
     "metadata": {},
     "output_type": "execute_result"
    },
    {
     "data": {
      "image/png": "[encoded data removed]",
      "text/plain": [
       "<Figure size 720x504 with 1 Axes>"
      ]
     },
     "metadata": {
      "needs_background": "light"
     },
     "output_type": "display_data"
    }
   ],
   "source": [
    "plt.figure(figsize = (10,7))\n",
    "sns.barplot(list(models.keys()),grid_scores)\n",
    "sns.despine(top=True, right=True, left=False, bottom=False)\n",
    "plt.legend()\n",
    "plt.ylim([0.45, 0.70])\n",
    "plt.title('F1Scores for differenet models\\n')\n",
    "plt.savefig(\"tuning.jpg\")\n",
    "grid_scores"
   ]
  },
  {
   "cell_type": "markdown",
   "metadata": {},
   "source": [
    "### Question 5"
   ]
  },
  {
   "cell_type": "code",
   "execution_count": 19,
   "metadata": {},
   "outputs": [],
   "source": [
    "#TODO\n",
    "finalModel = DecisionTreeClassifier(max_depth=8, min_samples_leaf=4, random_state=42)\n",
    "finalModel.fit(X_train,y_train)\n",
    "prediction = finalModel.predict(X_test)\n",
    "pd.DataFrame(prediction).to_csv(\"GROUP_classes_problem_census.txt\", index=False, header=False)"
   ]
  }
 ],
 "metadata": {
  "kernelspec": {
   "display_name": "Python 3",
   "language": "python",
   "name": "python3"
  },
  "language_info": {
   "codemirror_mode": {
    "name": "ipython",
    "version": 3
   },
   "file_extension": ".py",
   "mimetype": "text/x-python",
   "name": "python",
   "nbconvert_exporter": "python",
   "pygments_lexer": "ipython3",
   "version": "3.8.3"
  }
 },
 "nbformat": 4,
 "nbformat_minor": 4
}
